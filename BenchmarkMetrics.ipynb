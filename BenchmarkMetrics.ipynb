{
 "cells": [
  {
   "cell_type": "code",
   "execution_count": 1,
   "metadata": {
    "collapsed": true
   },
   "outputs": [],
   "source": [
    "import csv\n",
    "import matplotlib.pyplot as plt\n",
    "import seaborn as sns\n",
    "sns.set_style(\"whitegrid\")\n",
    "Gestures = ['Come','Stop','NG','Right','Left']\n",
    "GesturesFull = ['Pulling_Hand_In','Stop_Sign','No_gesture','Swiping_Left','Swiping_Right']\n",
    "GesturesPaper = ['Go Straight','Stop','No Gesture','Go Right','Go Left']"
   ]
  },
  {
   "cell_type": "code",
   "execution_count": 2,
   "metadata": {
    "collapsed": true
   },
   "outputs": [],
   "source": [
    "def GetData(sc,gest):\n",
    "    with open(\"data/Scen\"+str(sc)+Gestures[gest]+\".csv\") as f:\n",
    "        reader = csv.reader(f)\n",
    "        data = []\n",
    "        for row in reader:\n",
    "            data.append(row)\n",
    "    return data"
   ]
  },
  {
   "cell_type": "code",
   "execution_count": 3,
   "metadata": {
    "collapsed": true
   },
   "outputs": [],
   "source": [
    "def SingleGestureAccList(datarr,gest):\n",
    "    newarr = []\n",
    "    for itn in range(1,2002):\n",
    "        start = itn*26 - 26\n",
    "        end = start + 25\n",
    "        itnarray=datarr[start:end+1]\n",
    "        foundgesture=False\n",
    "        for item in itnarray:\n",
    "            if item[1] == GesturesFull[gest]:\n",
    "                newarr.append(float(item[2]))\n",
    "                foundgesture=True\n",
    "        if foundgesture == False:\n",
    "            newarr.append(0.0006)\n",
    "    return newarr"
   ]
  },
  {
   "cell_type": "code",
   "execution_count": 4,
   "metadata": {
    "collapsed": true
   },
   "outputs": [],
   "source": [
    "def SummedData(datarr): #Adds the percentages of all 5 gestures in that iteration (of 2000)\n",
    "    ComeList = SingleGestureAccList(datarr,0)\n",
    "    StopList = SingleGestureAccList(datarr,1)\n",
    "    NGList = SingleGestureAccList(datarr,2)\n",
    "    RightList = SingleGestureAccList(datarr,3)\n",
    "    LeftList = SingleGestureAccList(datarr,4)\n",
    "    addnormalizedarr = []\n",
    "    for i in range(0,2001):\n",
    "        addnormalizedarr.append(ComeList[i]+StopList[i]+NGList[i]+RightList[i]+LeftList[i])\n",
    "    \n",
    "    return addnormalizedarr"
   ]
  },
  {
   "cell_type": "code",
   "execution_count": 5,
   "metadata": {
    "collapsed": true
   },
   "outputs": [],
   "source": [
    "def GetScore(datarr,gest,thresh):\n",
    "    SumsPerITN = SummedData(datarr)\n",
    "    count=0\n",
    "    iteration = 0\n",
    "    for item in datarr:\n",
    "        if item[1] == GesturesFull[gest]:\n",
    "            #print(str(float(item[2]))+\" \"+str(SumsPerITN[iteration]))\n",
    "            normalizedacc = float(item[2])/SumsPerITN[iteration]\n",
    "            if normalizedacc > thresh:\n",
    "                count+=1\n",
    "            iteration+=1\n",
    "    return count"
   ]
  },
  {
   "cell_type": "code",
   "execution_count": 6,
   "metadata": {
    "collapsed": true
   },
   "outputs": [],
   "source": [
    "def CountTopAppearances(datarr,gest):\n",
    "    count=0\n",
    "    for itn in range(1,2001):\n",
    "        start = itn*26 - 26\n",
    "        end = start + 25\n",
    "        itnarray=datarr[start:end+1]\n",
    "        for item in itnarray:\n",
    "            if item[1] in GesturesFull:\n",
    "                if item[1] == GesturesFull[gest]:\n",
    "                    count+=1\n",
    "                break\n",
    "    return count"
   ]
  },
  {
   "cell_type": "code",
   "execution_count": 7,
   "metadata": {
    "collapsed": true
   },
   "outputs": [],
   "source": [
    "def GetCount(scen, gest):\n",
    "    return CountTopAppearances(GetData(scen,gest),gest)"
   ]
  },
  {
   "cell_type": "code",
   "execution_count": 8,
   "metadata": {
    "collapsed": true
   },
   "outputs": [],
   "source": [
    "def GetTopTable(sc,gest,thresh):\n",
    "    datarr=GetData(sc,gest)\n",
    "    countcorrect = GetScore(datarr,gest,thresh)\n",
    "    countincorrect = 2000 - countcorrect\n",
    "    return float(countcorrect),float(countincorrect)"
   ]
  },
  {
   "cell_type": "code",
   "execution_count": 9,
   "metadata": {
    "collapsed": true
   },
   "outputs": [],
   "source": [
    "def GetBottomTable(sc,gest,thresh):\n",
    "    total=2000\n",
    "    countofgest=0\n",
    "    if gest != 0:\n",
    "        ComeDatArr = GetData(sc,0)\n",
    "        countofgest += GetScore(ComeDatArr,gest,thresh)\n",
    "        total += 2000\n",
    "    if gest != 1:\n",
    "        StopDatArr = GetData(sc,1)\n",
    "        countofgest += GetScore(StopDatArr,gest,thresh)\n",
    "        total += 2000\n",
    "    if gest != 2:\n",
    "        NGDatArr = GetData(sc,2)\n",
    "        countofgest += GetScore(NGDatArr,gest,thresh)\n",
    "        total += 2000\n",
    "    if gest != 3 and sc==1:\n",
    "        RightDatArr = GetData(sc,3)\n",
    "        countofgest += GetScore(RightDatArr,gest,thresh)\n",
    "        total+=2000\n",
    "    if gest != 4 and sc==1:\n",
    "        LeftDatArr = GetData(sc,4)\n",
    "        countofgest += GetScore(LeftDatArr,gest,thresh)\n",
    "        total+=2000\n",
    "    nocountofgest=total-countofgest\n",
    "    return float(countofgest),float(nocountofgest)"
   ]
  },
  {
   "cell_type": "code",
   "execution_count": 12,
   "metadata": {
    "collapsed": true
   },
   "outputs": [],
   "source": [
    "def GetTablePR(sc,gest,thresh,metric=0):\n",
    "    TP,FN=GetTopTable(sc,gest,thresh)\n",
    "    FP,TN=GetBottomTable(sc,gest,thresh)\n",
    "    try:\n",
    "        Precision = TP/(TP+FP)\n",
    "    except ZeroDivisionError:\n",
    "        Precision = 0\n",
    "    try:\n",
    "        Recall = TP/(TP+FN)\n",
    "    except ZeroDivisionError:\n",
    "        Recall = 0\n",
    "    \n",
    "    if metric == 0:\n",
    "        return Precision, Recall\n",
    "    if metric == 1:\n",
    "        if sc==1:\n",
    "            crashrate=float(FN+FP)/10000\n",
    "        else:\n",
    "            crashrate=float(FN+FP)/6000\n",
    "        return crashrate\n",
    "    if metric == 2:\n",
    "        trueaccuracy = (TP+TN)/(TP+TN+FN+FP)\n",
    "        return trueaccuracy\n",
    "    if metric == 3:\n",
    "        f1 = (2*Precision*Recall)/(Precision+Recall)\n",
    "        return f1"
   ]
  },
  {
   "cell_type": "code",
   "execution_count": 11,
   "metadata": {
    "collapsed": true
   },
   "outputs": [],
   "source": [
    "def GetCurve(sc,threshlist):\n",
    "    baseline = (1.0/3.0)\n",
    "    if sc==1: \n",
    "        gestlist=[0,1,2,3,4]\n",
    "        baseline = 0.2\n",
    "    else:\n",
    "        gestlist=[0,1,2]\n",
    "    colors = ['r','b','g','y','c']\n",
    "    gesturenum=0\n",
    "    fig, ax = plt.subplots()\n",
    "    for gest in gestlist:\n",
    "        PrArr=[]\n",
    "        ReArr=[]\n",
    "        for thresh in threshlist:\n",
    "            Pr,Re=GetTablePR(sc,gest,thresh)\n",
    "            PrArr.append(Pr)\n",
    "            ReArr.append(Re)\n",
    "        with open('graphdata.csv', \"w\") as csv_file:\n",
    "            writ = csv.writer(csv_file, delimiter=',', quotechar='\"', quoting=csv.QUOTE_MINIMAL)\n",
    "            writ.writerow(PrArr)\n",
    "            writ.writerow(ReArr)\n",
    "        ax.plot(ReArr, PrArr, str(colors[gesturenum])+'-',label=str(GesturesPaper[gest]))\n",
    "        gesturenum+=1\n",
    "    ax.axhline(y=baseline, color='black', linestyle='--',label='Baseline')\n",
    "    plt.axis([0, 1.01, 0, 1.01])\n",
    "    plt.title('Scenario '+str(sc))\n",
    "    handles, labels = ax.get_legend_handles_labels()\n",
    "    ax.legend(labels,loc=6)\n",
    "    ax.set_ylabel('Precision')\n",
    "    ax.set_xlabel('Recall')\n",
    "    \n",
    "    plt.savefig('Scenario'+str(sc)+'.png',dpi=2000)\n",
    "    plt.show()"
   ]
  },
  {
   "cell_type": "code",
   "execution_count": 12,
   "metadata": {
    "collapsed": true
   },
   "outputs": [],
   "source": [
    "def ThreshGen(NumPoints):\n",
    "    diff = 1.0/float(NumPoints)\n",
    "    arr = [0]\n",
    "    for point in range(1,NumPoints):\n",
    "        arr.append(point*diff)\n",
    "    return arr"
   ]
  },
  {
   "cell_type": "code",
   "execution_count": 15,
   "metadata": {
    "collapsed": true
   },
   "outputs": [],
   "source": [
    "def GetGraphs(NumPoints): # Generate Precision Recall Graphs\n",
    "    GetCurve(1,ThreshGen(500))\n",
    "    GetCurve(2,ThreshGen(500))\n",
    "    GetCurve(3,ThreshGen(500))\n",
    "    GetCurve(4,ThreshGen(500))"
   ]
  },
  {
   "cell_type": "code",
   "execution_count": 35,
   "metadata": {},
   "outputs": [],
   "source": [
    "def BenchmarkMetrics(metric=0): #Get Comparison Metrics: 0=PR,1=CrashRate,2=Accuracy,3=F1\n",
    "    print(\"Scenario 1\")\n",
    "    S11 = GetTablePR(1,0,0.4,metric)\n",
    "    print('\\t' + Gestures[0] + ': ' + str(S11))\n",
    "    S12 = GetTablePR(1,1,0.4,metric)\n",
    "    print('\\t' + Gestures[1] + ': ' + str(S12))\n",
    "    S13 = GetTablePR(1,2,0.4,metric)\n",
    "    print('\\t' + Gestures[2] + ': ' + str(S13))\n",
    "    S14 = GetTablePR(1,3,0.4,metric)\n",
    "    print('\\t' + Gestures[3] + ': ' + str(S14))\n",
    "    S15 = GetTablePR(1,4,0.4,metric)\n",
    "    print('\\t' + Gestures[4] + ': ' + str(S15))\n",
    "    \n",
    "    print(\"Scenario 2\")\n",
    "    S21 = GetTablePR(2,0,0.4,metric)\n",
    "    print('\\t' + Gestures[0] + ': ' + str(S21))\n",
    "    S22 = GetTablePR(2,1,0.4,metric)\n",
    "    print('\\t' + Gestures[1] + ': ' + str(S22))\n",
    "    S23 = GetTablePR(2,2,0.4,metric)\n",
    "    print('\\t' + Gestures[2] + ': ' + str(S23))\n",
    "    \n",
    "    print(\"Scenario 3\")\n",
    "    S31 = GetTablePR(3,0,0.4,metric)\n",
    "    print('\\t' + Gestures[0] + ': ' + str(S31))\n",
    "    S32 = GetTablePR(3,1,0.4,metric)\n",
    "    print('\\t' + Gestures[1] + ': ' + str(S32))\n",
    "    S33 = GetTablePR(3,2,0.4,metric)\n",
    "    print('\\t' + Gestures[2] + ': ' + str(S33))\n",
    "    \n",
    "    print(\"Scenario 4\")\n",
    "    S41 = GetTablePR(4,0,0.4,metric)\n",
    "    print('\\t' + Gestures[0] + ': ' + str(S41))\n",
    "    S42 = GetTablePR(4,1,0.4,metric)\n",
    "    print('\\t' + Gestures[1] + ': ' + str(S42))\n",
    "    S43 = GetTablePR(4,2,0.4,metric)\n",
    "    print('\\t' + Gestures[2] + ': ' + str(S43))\n",
    "    \n",
    "    print(\"Overall Average of 14\")\n",
    "    print('\\t' + str(float(S11+S12+S13+S14+S15+S21+S22+S23+S31+S32+S33+S41+S42+S43)/14))"
   ]
  },
  {
   "cell_type": "code",
   "execution_count": 37,
   "metadata": {},
   "outputs": [
    {
     "name": "stdout",
     "output_type": "stream",
     "text": [
      "Scenario 1\n",
      "\tCome: 0.934166666667\n",
      "\tStop: 0.955833333333\n",
      "\tNG: 0.933166666667\n",
      "\tRight: 0.882083333333\n",
      "\tLeft: 0.950333333333\n",
      "Scenario 2\n",
      "\tCome: 0.94925\n",
      "\tStop: 0.932625\n",
      "\tNG: 0.98125\n",
      "Scenario 3\n",
      "\tCome: 0.936125\n",
      "\tStop: 0.911625\n",
      "\tNG: 0.964125\n",
      "Scenario 4\n",
      "\tCome: 0.923375\n",
      "\tStop: 0.98725\n",
      "\tNG: 0.9985\n",
      "Overall Average of 14\n",
      "\t0.945693452381\n"
     ]
    }
   ],
   "source": [
    "BenchmarkMetrics(2)"
   ]
  },
  {
   "cell_type": "code",
   "execution_count": null,
   "metadata": {
    "collapsed": true
   },
   "outputs": [],
   "source": []
  }
 ],
 "metadata": {
  "kernelspec": {
   "display_name": "Python 2",
   "language": "python",
   "name": "python2"
  },
  "language_info": {
   "codemirror_mode": {
    "name": "ipython",
    "version": 2
   },
   "file_extension": ".py",
   "mimetype": "text/x-python",
   "name": "python",
   "nbconvert_exporter": "python",
   "pygments_lexer": "ipython2",
   "version": "2.7.6"
  }
 },
 "nbformat": 4,
 "nbformat_minor": 2
}
